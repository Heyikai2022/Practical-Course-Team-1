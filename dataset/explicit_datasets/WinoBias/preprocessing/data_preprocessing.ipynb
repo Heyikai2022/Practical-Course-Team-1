{
 "cells": [
  {
   "cell_type": "code",
   "execution_count": 1,
   "id": "78987867",
   "metadata": {},
   "outputs": [],
   "source": [
    "import json\n",
    "from pathlib import Path\n",
    "import re"
   ]
  },
  {
   "cell_type": "code",
   "execution_count": 2,
   "id": "e998d543",
   "metadata": {},
   "outputs": [],
   "source": [
    "def preprocess_wino_file(input_path, label_value=None):\n",
    "    data = []\n",
    "\n",
    "    with open(input_path, \"r\", encoding=\"utf-8\") as f:\n",
    "        lines = f.readlines()\n",
    "\n",
    "    filename = Path(input_path).stem  # e.g. 'anti_stereotyped_type1.txt' -> 'anti_stereotyped_type1'\n",
    "\n",
    "    for i, line in enumerate(lines):\n",
    "        clean_text = re.sub(r\"^\\d+\\s*\", \"\", line.strip())\n",
    "        scenario = {\n",
    "            \"scenario_id\": f\"{filename}_{i}\",  # Unique ID\n",
    "            \"scenario_text\": clean_text.strip(),\n",
    "            \"label\": label_value if label_value is not None else \"unknown\"\n",
    "        }\n",
    "        data.append(scenario)\n",
    "\n",
    "    return data"
   ]
  },
  {
   "cell_type": "code",
   "execution_count": 12,
   "id": "36343a39",
   "metadata": {},
   "outputs": [],
   "source": [
    "# Collect data from two files with different labels\n",
    "data_1 = []\n",
    "files = [\n",
    "    (\"anti_stereotyped_type1.txt.dev\", \"anti_stereotyped\"),\n",
    "    (\"pro_stereotyped_type1.txt.dev\", \"pro_stereotyped\"),\n",
    "]"
   ]
  },
  {
   "cell_type": "code",
   "execution_count": 13,
   "id": "4cf2b137",
   "metadata": {},
   "outputs": [],
   "source": [
    "for file_path, label in files:\n",
    "    data_1.extend(preprocess_wino_file(file_path, label))"
   ]
  },
  {
   "cell_type": "code",
   "execution_count": 14,
   "id": "9d3f7364",
   "metadata": {},
   "outputs": [],
   "source": [
    "with open (\"dev_type1.json\", \"w\", encoding=\"utf-8\") as f:\n",
    "    json.dump(data_1, f, indent=2, ensure_ascii=False)"
   ]
  },
  {
   "cell_type": "code",
   "execution_count": 15,
   "id": "11d20907",
   "metadata": {},
   "outputs": [
    {
     "name": "stdout",
     "output_type": "stream",
     "text": [
      "✅ Saved 792 scenarios to dev_type1.json\n"
     ]
    }
   ],
   "source": [
    "print(f\"✅ Saved {len(data_1)} scenarios to dev_type1.json\")"
   ]
  },
  {
   "cell_type": "code",
   "execution_count": null,
   "id": "dc01f492",
   "metadata": {},
   "outputs": [],
   "source": []
  },
  {
   "cell_type": "markdown",
   "id": "f6aed3b5",
   "metadata": {},
   "source": [
    "### "
   ]
  },
  {
   "cell_type": "markdown",
   "id": "55e0151b",
   "metadata": {},
   "source": [
    "### Collect 100 samples from dev_type1.json"
   ]
  },
  {
   "cell_type": "code",
   "execution_count": 4,
   "id": "48c7bad0",
   "metadata": {},
   "outputs": [
    {
     "data": {
      "text/plain": [
       "792"
      ]
     },
     "execution_count": 4,
     "metadata": {},
     "output_type": "execute_result"
    }
   ],
   "source": [
    "with open (\"dev_type1.json\", mode=\"r\", encoding=\"utf-8\") as f:\n",
    "    data = json.load(f)\n",
    "len(data)"
   ]
  },
  {
   "cell_type": "code",
   "execution_count": 16,
   "id": "747b43fb",
   "metadata": {},
   "outputs": [],
   "source": [
    "# Collect the first 50 (anti-stereotyped) and the last 50 (pro-stereotyped) json objects\n",
    "anti_samples = data[:50]\n",
    "pro_samples = data[len(data)-50:]"
   ]
  },
  {
   "cell_type": "code",
   "execution_count": 20,
   "id": "f35e3137",
   "metadata": {},
   "outputs": [],
   "source": [
    "# Concatinate the sample data in a json file\n",
    "sample_data = anti_samples + pro_samples\n",
    "with open(\"sample_data_100.json\", mode='w', encoding=\"utf-8\") as f:\n",
    "    json.dump(sample_data, f, indent=2, ensure_ascii=False)"
   ]
  },
  {
   "cell_type": "markdown",
   "id": "a162a40b",
   "metadata": {},
   "source": [
    "### Collect pro-stereotyped samples"
   ]
  },
  {
   "cell_type": "code",
   "execution_count": 3,
   "id": "8494c44c",
   "metadata": {},
   "outputs": [],
   "source": [
    "data_pro_stereotyped = []\n",
    "files = [\n",
    "    (\"pro_stereotyped_type1.txt.dev\", \"pro_stereotyped\"),\n",
    "    (\"pro_stereotyped_type1.txt.test\", \"pro_stereotyped\")\n",
    "]"
   ]
  },
  {
   "cell_type": "code",
   "execution_count": 4,
   "id": "219194b4",
   "metadata": {},
   "outputs": [],
   "source": [
    "for file_path, label in files:\n",
    "    data_pro_stereotyped.extend(preprocess_wino_file(file_path, label))"
   ]
  },
  {
   "cell_type": "code",
   "execution_count": 6,
   "id": "47dd26dd",
   "metadata": {},
   "outputs": [],
   "source": [
    "with open (\"pro_stereotyped_type1.json\", \"w\", encoding=\"utf-8\") as f:\n",
    "    json.dump(data_pro_stereotyped, f, indent=2, ensure_ascii=False)"
   ]
  },
  {
   "cell_type": "code",
   "execution_count": 7,
   "id": "95a8ad52",
   "metadata": {},
   "outputs": [
    {
     "data": {
      "text/plain": [
       "792"
      ]
     },
     "execution_count": 7,
     "metadata": {},
     "output_type": "execute_result"
    }
   ],
   "source": [
    "len(data_pro_stereotyped)"
   ]
  },
  {
   "cell_type": "code",
   "execution_count": 8,
   "id": "e9771176",
   "metadata": {},
   "outputs": [],
   "source": [
    "with open (\"pro_stereotyped_samples_500.json\", \"w\", encoding=\"utf-8\") as f:\n",
    "    json.dump(data_pro_stereotyped[:500], f, indent=2, ensure_ascii=False)"
   ]
  }
 ],
 "metadata": {
  "kernelspec": {
   "display_name": "base",
   "language": "python",
   "name": "python3"
  },
  "language_info": {
   "codemirror_mode": {
    "name": "ipython",
    "version": 3
   },
   "file_extension": ".py",
   "mimetype": "text/x-python",
   "name": "python",
   "nbconvert_exporter": "python",
   "pygments_lexer": "ipython3",
   "version": "3.12.4"
  }
 },
 "nbformat": 4,
 "nbformat_minor": 5
}
