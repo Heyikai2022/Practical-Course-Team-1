{
 "cells": [
  {
   "cell_type": "markdown",
   "id": "f25b989d",
   "metadata": {},
   "source": [
    "# Visualizations"
   ]
  },
  {
   "cell_type": "markdown",
   "id": "757027d9",
   "metadata": {},
   "source": [
    "## 1. Stacked bar chart"
   ]
  },
  {
   "cell_type": "code",
   "execution_count": null,
   "id": "7ff2e6a8",
   "metadata": {},
   "outputs": [
    {
     "ename": "",
     "evalue": "",
     "output_type": "error",
     "traceback": [
      "\u001b[1;31mRunning cells with 'Python 3.12.3' requires the ipykernel package.\n",
      "\u001b[1;31m<a href='command:jupyter.createPythonEnvAndSelectController'>Create a Python Environment</a> with the required packages.\n",
      "\u001b[1;31mOr install 'ipykernel' using the command: '/bin/python3 -m pip install ipykernel -U --user --force-reinstall'"
     ]
    }
   ],
   "source": [
    "import matplotlib.pyplot as plt\n",
    "import pandas as pd\n",
    "\n",
    "# Raw model result entries\n",
    "# TODO: \n",
    "# 1. Update the current statistics with manuel checking;\n",
    "# 2. Add statistics of new prompted models (update raw_model_data);\n",
    "# 3. Execute the code again to update the visualization\n",
    "raw_model_data = {\n",
    "    \"Llama-3.2-1B-Instruct\": {\n",
    "        \"Pro Count: \": 55,\n",
    "        \"Anti Count: \": 169,\n",
    "        \"Neu Count: \": 171,\n",
    "        \"Check Count: \": 105,\n",
    "        \"Correctness Rate: (before check)\": \"11.0 %\"\n",
    "    },\n",
    "    \"Qwen2-1.5B-Instruct\": {\n",
    "        \"Pro Count: \": 172,\n",
    "        \"Anti Count: \": 277,\n",
    "        \"Neu Count: \": 44,\n",
    "        \"Check Count: \": 7,\n",
    "        \"Correctness Rate: (before check)\": \"34.9 %\"\n",
    "    },\n",
    "    \"Qwen2.5-1.5B-Instruct\": {\n",
    "        \"Pro Count: \": 484,\n",
    "        \"Anti Count: \": 0,\n",
    "        \"Neu Count: \": 16,\n",
    "        \"Check Count: \": 0,\n",
    "        \"Correctness Rate: (before check)\": \"96.8 %\"\n",
    "    },\n",
    "    \"DeepSeek-R1-Distill-Qwen-1.5B\": {\n",
    "    \"Pro Count: \": 0,\n",
    "    \"Anti Count: \": 0,\n",
    "    \"Neu Count: \": 0,\n",
    "    \"Check Count: \": 500,\n",
    "    \"Correctness Rate: (before check)\": \"0.0 %\"\n",
    "    }\n",
    "}\n",
    "\n",
    "# Convert to a list of cleaned records\n",
    "processed_data = []\n",
    "\n",
    "for model, stats in raw_model_data.items():\n",
    "    processed_data.append({\n",
    "        \"Model\": model,\n",
    "        \"Pro\": stats[\"Pro Count: \"],\n",
    "        \"Neutral\": stats[\"Neu Count: \"],\n",
    "        \"Anti\": stats[\"Anti Count: \"]\n",
    "    })\n",
    "\n",
    "# Create DataFrame\n",
    "df = pd.DataFrame(processed_data)\n",
    "df.set_index(\"Model\", inplace=True)\n",
    "\n",
    "# Plotting\n",
    "colors = ['#4CAF50', '#FFC107', '#F44336']  # Pro, Neutral, Anti\n",
    "ax = df.plot(kind='bar', stacked=True, color=colors, figsize=(10, 6), edgecolor='black')\n",
    "\n",
    "# Add count labels on each segment\n",
    "for i, model in enumerate(df.index):\n",
    "    pro = df.loc[model, 'Pro']\n",
    "    neu = df.loc[model, 'Neutral']\n",
    "    anti = df.loc[model, 'Anti']\n",
    "    \n",
    "    # Positions for labels\n",
    "    ax.text(i, pro / 2, str(pro), ha='center', va='center', color='white', fontsize=11, fontweight='bold')\n",
    "    ax.text(i, pro + neu / 2, str(neu), ha='center', va='center', color='black', fontsize=11, fontweight='bold')\n",
    "    if anti > 0:\n",
    "        ax.text(i, pro + neu + anti / 2, str(anti), ha='center', va='center', color='white', fontsize=11, fontweight='bold')\n",
    "\n",
    "# Chart formatting\n",
    "plt.title('Distribution of Model Predictions on 500 Pro-Stereotyped Samples', fontsize=14)\n",
    "plt.xlabel('Model')\n",
    "plt.ylabel('Number of Predictions')\n",
    "plt.legend(title='Prediction Type', loc='upper right')\n",
    "plt.xticks(rotation=0)\n",
    "plt.tight_layout()\n",
    "\n",
    "plt.show()\n",
    "# plt.savefig(\"stacked_predictions_chart.png\", dpi=300)\n"
   ]
  },
  {
   "cell_type": "markdown",
   "id": "6a82ee8d",
   "metadata": {},
   "source": [
    "## 2. Accuracy / Recall (Alignment)"
   ]
  },
  {
   "cell_type": "code",
   "execution_count": 11,
   "id": "4868c693",
   "metadata": {},
   "outputs": [
    {
     "data": {
      "image/png": "[encoded data removed]",
      "text/plain": [
       "<Figure size 600x200 with 1 Axes>"
      ]
     },
     "metadata": {},
     "output_type": "display_data"
    }
   ],
   "source": [
    "# Data\n",
    "# TODO: update as needed!\n",
    "models = [model for model in raw_model_data.keys()]\n",
    "accuracy_scores = [float(stats[\"Correctness Rate: (before check)\"].replace(\"%\", \"\").strip()) / 100 for stats in raw_model_data.values()]\n",
    "\n",
    "# Prepare table data (including header)\n",
    "table_data = []\n",
    "for model, accuracy in zip(models, accuracy_scores):\n",
    "    table_data.append([model, accuracy])\n",
    "\n",
    "# Create figure and axis\n",
    "fig, ax = plt.subplots(figsize=(6, 2))\n",
    "ax.axis('off')  # Hide the axes\n",
    "\n",
    "# Create the table\n",
    "table = ax.table(cellText=table_data,\n",
    "                 colLabels=[\"Model\", \"Accuracy / Recall\"],\n",
    "                 cellLoc='center',\n",
    "                 loc='center')\n",
    "\n",
    "table.auto_set_font_size(False)\n",
    "table.set_fontsize(12)\n",
    "table.scale(1, 2)  # Scale width and height\n",
    "\n",
    "plt.title(\"Alignment Table\", fontsize=14, pad=20)\n",
    "plt.tight_layout()\n",
    "plt.show()\n"
   ]
  },
  {
   "cell_type": "code",
   "execution_count": null,
   "id": "029de562",
   "metadata": {},
   "outputs": [],
   "source": []
  }
 ],
 "metadata": {
  "kernelspec": {
   "display_name": "Python 3",
   "language": "python",
   "name": "python3"
  },
  "language_info": {
   "codemirror_mode": {
    "name": "ipython",
    "version": 3
   },
   "file_extension": ".py",
   "mimetype": "text/x-python",
   "name": "python",
   "nbconvert_exporter": "python",
   "pygments_lexer": "ipython3",
   "version": "3.12.3"
  }
 },
 "nbformat": 4,
 "nbformat_minor": 5
}
