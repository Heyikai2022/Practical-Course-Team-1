{
 "cells": [
  {
   "cell_type": "markdown",
   "id": "9674fc3f",
   "metadata": {},
   "source": [
    "## Response Checking"
   ]
  },
  {
   "cell_type": "code",
   "execution_count": 2,
   "id": "6ac4a211",
   "metadata": {},
   "outputs": [],
   "source": [
    "import json"
   ]
  },
  {
   "cell_type": "code",
   "execution_count": 3,
   "id": "3f6a14ae",
   "metadata": {},
   "outputs": [],
   "source": [
    "with open(\"check_DeepSeek-R1-Distill-Qwen-1.5B_2025-05-25 22_49_43.123562.json\", \"r\", encoding=\"utf-8\") as f:\n",
    "    data = json.load(f)"
   ]
  },
  {
   "cell_type": "code",
   "execution_count": 20,
   "id": "7eca7c98",
   "metadata": {},
   "outputs": [],
   "source": [
    "scenario_ids = [entity['scenario_id'] for entity in data]\n",
    "statements = [entity['statement'] for entity in data]\n",
    "responses = [entity['response'] for entity in data]\n",
    "labels = [entity['label'] for entity in data]\n",
    "checks = [entity['check'] for entity in data]"
   ]
  },
  {
   "cell_type": "code",
   "execution_count": 10,
   "id": "a40e59da",
   "metadata": {},
   "outputs": [],
   "source": [
    "response_check_dict = {response: check for response, check in zip(responses, checks)}"
   ]
  },
  {
   "cell_type": "code",
   "execution_count": 28,
   "id": "057ef15a",
   "metadata": {},
   "outputs": [],
   "source": [
    "with open(\"responses_to_be_checked.json\", \"w\", encoding=\"utf-8\") as f:\n",
    "    json.dump(response_check_dict, f, ensure_ascii=False, indent=2)"
   ]
  },
  {
   "cell_type": "code",
   "execution_count": 16,
   "id": "ff317aed",
   "metadata": {},
   "outputs": [],
   "source": [
    "# Checked responses used ChatGPT\n",
    "with open(\"checked_responses_filled.json\", \"r\", encoding=\"utf-8\") as f:\n",
    "    filled_dict = json.load(f)"
   ]
  },
  {
   "cell_type": "code",
   "execution_count": 23,
   "id": "6fb1fc16",
   "metadata": {},
   "outputs": [],
   "source": [
    "filled_checks = filled_dict.values()"
   ]
  },
  {
   "cell_type": "code",
   "execution_count": 24,
   "id": "3ac04e43",
   "metadata": {},
   "outputs": [],
   "source": [
    "checked_data = [{'scenario_id': scenario_id,\n",
    "                 'statement': statement,\n",
    "                 'response': response, \n",
    "                 'label': label, \n",
    "                 'check': check} for scenario_id, statement, response, label, check in zip(scenario_ids, statements, responses, labels, filled_checks)]"
   ]
  },
  {
   "cell_type": "code",
   "execution_count": 27,
   "id": "40de269f",
   "metadata": {},
   "outputs": [],
   "source": [
    "with open(\"checked_data.json\", \"w\", encoding=\"utf-8\") as f:\n",
    "    json.dump(checked_data, f, ensure_ascii=False, indent=2)\n"
   ]
  },
  {
   "cell_type": "markdown",
   "id": "fe4d1d3a",
   "metadata": {},
   "source": [
    "## Statistics Checking"
   ]
  },
  {
   "cell_type": "code",
   "execution_count": 30,
   "id": "4258356e",
   "metadata": {},
   "outputs": [],
   "source": [
    "from collections import Counter"
   ]
  },
  {
   "cell_type": "code",
   "execution_count": 32,
   "id": "61edd6ea",
   "metadata": {},
   "outputs": [
    {
     "name": "stdout",
     "output_type": "stream",
     "text": [
      "Prediction Counts: Counter({'N': 267, 'A': 100, 'X': 93, 'P': 40})\n",
      "Accuracy: 8.00%\n"
     ]
    }
   ],
   "source": [
    "preds = filled_checks\n",
    "\n",
    "# Count the number of each prediction\n",
    "prediction_counts = Counter(preds)\n",
    "\n",
    "# Ground truth: all labels are 'P'\n",
    "true_label = 'P'\n",
    "total = len(preds)\n",
    "correct = sum(1 for p in preds if p == true_label)\n",
    "\n",
    "accuracy = correct / total if total > 0 else 0\n",
    "\n",
    "print(\"Prediction Counts:\", prediction_counts)\n",
    "print(f\"Accuracy: {accuracy:.2%}\")"
   ]
  },
  {
   "cell_type": "code",
   "execution_count": null,
   "id": "6b3fff86",
   "metadata": {},
   "outputs": [],
   "source": []
  }
 ],
 "metadata": {
  "kernelspec": {
   "display_name": "base",
   "language": "python",
   "name": "python3"
  },
  "language_info": {
   "codemirror_mode": {
    "name": "ipython",
    "version": 3
   },
   "file_extension": ".py",
   "mimetype": "text/x-python",
   "name": "python",
   "nbconvert_exporter": "python",
   "pygments_lexer": "ipython3",
   "version": "3.12.4"
  }
 },
 "nbformat": 4,
 "nbformat_minor": 5
}
